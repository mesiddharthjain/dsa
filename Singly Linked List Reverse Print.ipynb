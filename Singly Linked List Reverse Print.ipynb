{
 "cells": [
  {
   "cell_type": "code",
   "execution_count": 38,
   "metadata": {},
   "outputs": [],
   "source": [
    " class node1:\n",
    "        def __init__(self1,item):\n",
    "            self1.item = item\n",
    "            self1.next = None\n",
    "class sLinkedList1:\n",
    "    def __init__(self1):\n",
    "        self1.head = None \n",
    "        \n",
    "    def printList1(self1):\n",
    "        temp1 = self1.head\n",
    "        while(temp1): # while temp is not None\n",
    "            print(temp1.item)\n",
    "            temp1 = temp1.next"
   ]
  },
  {
   "cell_type": "code",
   "execution_count": 100,
   "metadata": {},
   "outputs": [],
   "source": [
    "class node: \n",
    "    def __init__(self,item):\n",
    "        self.item = item\n",
    "        self.next = None\n",
    "\n",
    "class sLinkedList:\n",
    "    def __init__(self):\n",
    "        self.head = None \n",
    "\n",
    "    def printList(self):\n",
    "        temp = self.head\n",
    "        while(temp): # while temp is not None\n",
    "            print(temp.item)\n",
    "            temp = temp.next\n",
    "            \n",
    "    def insertAtBegin(self,value):\n",
    "        beginnode = node(value)\n",
    "        beginnode.next = self.head\n",
    "        self.head = beginnode\n",
    "           \n",
    "    def insertAtEnd(self,value):\n",
    "        endnode = node(value)\n",
    "        temp = self.head\n",
    "        while(temp):\n",
    "            temp_prev = temp\n",
    "            temp = temp.next\n",
    "        temp_prev.next = endnode\n",
    "          \n",
    "    def printreverse(self):\n",
    "        temp = self.head\n",
    "        temp1 = sLinkedList1()\n",
    "        if(not temp):\n",
    "            return\n",
    "        while(temp):\n",
    "            if temp.item == self.head.item:\n",
    "                node = node1(temp.item)\n",
    "                temp1.head = node\n",
    "                temp = temp.next\n",
    "            else:\n",
    "                node = node1(temp.item)\n",
    "                node.next = temp1.head\n",
    "                temp1.head = node\n",
    "                temp = temp.next\n",
    "        temp1.printList1()\n",
    "        \n",
    "    def printreverse1(self,next1):\n",
    "        if not next1:\n",
    "            return\n",
    "        self.printreverse1(next1.next)\n",
    "        print(next1.item)\n",
    "        "
   ]
  },
  {
   "cell_type": "code",
   "execution_count": 101,
   "metadata": {},
   "outputs": [],
   "source": [
    "l = sLinkedList()"
   ]
  },
  {
   "cell_type": "code",
   "execution_count": 102,
   "metadata": {},
   "outputs": [],
   "source": [
    "l.head = node(1)"
   ]
  },
  {
   "cell_type": "code",
   "execution_count": 103,
   "metadata": {},
   "outputs": [],
   "source": [
    "l.insertAtEnd(2)"
   ]
  },
  {
   "cell_type": "code",
   "execution_count": 104,
   "metadata": {},
   "outputs": [],
   "source": [
    "l.insertAtEnd(3)"
   ]
  },
  {
   "cell_type": "code",
   "execution_count": 105,
   "metadata": {},
   "outputs": [],
   "source": [
    "l.insertAtEnd(4)"
   ]
  },
  {
   "cell_type": "code",
   "execution_count": 106,
   "metadata": {},
   "outputs": [],
   "source": [
    "l.insertAtEnd(5)"
   ]
  },
  {
   "cell_type": "code",
   "execution_count": 107,
   "metadata": {},
   "outputs": [
    {
     "name": "stdout",
     "output_type": "stream",
     "text": [
      "1\n",
      "2\n",
      "3\n",
      "4\n",
      "5\n"
     ]
    }
   ],
   "source": [
    "l.printList()"
   ]
  },
  {
   "cell_type": "code",
   "execution_count": 108,
   "metadata": {},
   "outputs": [
    {
     "name": "stdout",
     "output_type": "stream",
     "text": [
      "5\n",
      "4\n",
      "3\n",
      "2\n",
      "1\n"
     ]
    }
   ],
   "source": [
    "l.printreverse()"
   ]
  },
  {
   "cell_type": "code",
   "execution_count": 109,
   "metadata": {},
   "outputs": [
    {
     "name": "stdout",
     "output_type": "stream",
     "text": [
      "5\n",
      "4\n",
      "3\n",
      "2\n",
      "1\n"
     ]
    }
   ],
   "source": [
    "l.printreverse1(l.head)"
   ]
  },
  {
   "cell_type": "code",
   "execution_count": null,
   "metadata": {},
   "outputs": [],
   "source": []
  }
 ],
 "metadata": {
  "kernelspec": {
   "display_name": "Python 3",
   "language": "python",
   "name": "python3"
  },
  "language_info": {
   "codemirror_mode": {
    "name": "ipython",
    "version": 3
   },
   "file_extension": ".py",
   "mimetype": "text/x-python",
   "name": "python",
   "nbconvert_exporter": "python",
   "pygments_lexer": "ipython3",
   "version": "3.7.1"
  }
 },
 "nbformat": 4,
 "nbformat_minor": 2
}
